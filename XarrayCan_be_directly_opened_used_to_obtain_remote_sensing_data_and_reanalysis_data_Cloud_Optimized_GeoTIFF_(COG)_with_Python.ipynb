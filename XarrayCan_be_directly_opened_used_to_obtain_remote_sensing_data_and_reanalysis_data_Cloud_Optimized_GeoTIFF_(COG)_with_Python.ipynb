{
  "nbformat": 4,
  "nbformat_minor": 0,
  "metadata": {
    "colab": {
      "name": "XarrayCan be directly opened\\ used to obtain remote sensing data and reanalysis data  Cloud Optimized GeoTIFF (COG) with Python.ipynb",
      "provenance": [],
      "collapsed_sections": [],
      "authorship_tag": "ABX9TyPMB2JNAobwk65Ua8tBINph",
      "include_colab_link": true
    },
    "kernelspec": {
      "name": "python3",
      "display_name": "Python 3"
    },
    "language_info": {
      "name": "python"
    }
  },
  "cells": [
    {
      "cell_type": "markdown",
      "metadata": {
        "id": "view-in-github",
        "colab_type": "text"
      },
      "source": [
        "<a href=\"https://colab.research.google.com/github/CristinaMarsh/Data/blob/Image/XarrayCan_be_directly_opened_used_to_obtain_remote_sensing_data_and_reanalysis_data_Cloud_Optimized_GeoTIFF_(COG)_with_Python.ipynb\" target=\"_parent\"><img src=\"https://colab.research.google.com/assets/colab-badge.svg\" alt=\"Open In Colab\"/></a>"
      ]
    },
    {
      "cell_type": "code",
      "execution_count": null,
      "metadata": {
        "colab": {
          "base_uri": "https://localhost:8080/",
          "height": 845
        },
        "id": "vF9IGNnmUO8z",
        "outputId": "a87327b9-25d2-4e7e-dc31-b952d46a2a92"
      },
      "outputs": [
        {
          "output_type": "stream",
          "name": "stdout",
          "text": [
            "Cloning into 'sat-search'...\n",
            "remote: Enumerating objects: 1816, done.\u001b[K\n",
            "remote: Counting objects: 100% (125/125), done.\u001b[K\n",
            "remote: Compressing objects: 100% (80/80), done.\u001b[K\n",
            "remote: Total 1816 (delta 73), reused 85 (delta 41), pack-reused 1691\u001b[K\n",
            "Receiving objects: 100% (1816/1816), 351.67 KiB | 2.96 MiB/s, done.\n",
            "Resolving deltas: 100% (1123/1123), done.\n",
            "/content/sat-search\n",
            "Looking in indexes: https://pypi.org/simple, https://us-python.pkg.dev/colab-wheels/public/simple/\n",
            "Processing /content/sat-search\n",
            "\u001b[33m  DEPRECATION: A future pip version will change local packages to be built in-place without first copying to a temporary directory. We recommend you use --use-feature=in-tree-build to test your packages with this new behavior before it becomes the default.\n",
            "   pip 21.3 will remove support for this functionality. You can find discussion regarding this at https://github.com/pypa/pip/issues/7555.\u001b[0m\n",
            "Collecting sat-stac~=0.4.0\n",
            "  Downloading sat-stac-0.4.1.tar.gz (16 kB)\n",
            "Requirement already satisfied: requests>=2.19.1 in /usr/local/lib/python3.7/dist-packages (from sat-stac~=0.4.0->sat-search==0.3.0) (2.23.0)\n",
            "Collecting python-dateutil~=2.7.5\n",
            "  Downloading python_dateutil-2.7.5-py2.py3-none-any.whl (225 kB)\n",
            "\u001b[K     |████████████████████████████████| 225 kB 7.0 MB/s \n",
            "\u001b[?25hRequirement already satisfied: six>=1.5 in /usr/local/lib/python3.7/dist-packages (from python-dateutil~=2.7.5->sat-stac~=0.4.0->sat-search==0.3.0) (1.15.0)\n",
            "Requirement already satisfied: chardet<4,>=3.0.2 in /usr/local/lib/python3.7/dist-packages (from requests>=2.19.1->sat-stac~=0.4.0->sat-search==0.3.0) (3.0.4)\n",
            "Requirement already satisfied: certifi>=2017.4.17 in /usr/local/lib/python3.7/dist-packages (from requests>=2.19.1->sat-stac~=0.4.0->sat-search==0.3.0) (2022.5.18.1)\n",
            "Requirement already satisfied: idna<3,>=2.5 in /usr/local/lib/python3.7/dist-packages (from requests>=2.19.1->sat-stac~=0.4.0->sat-search==0.3.0) (2.10)\n",
            "Requirement already satisfied: urllib3!=1.25.0,!=1.25.1,<1.26,>=1.21.1 in /usr/local/lib/python3.7/dist-packages (from requests>=2.19.1->sat-stac~=0.4.0->sat-search==0.3.0) (1.24.3)\n",
            "Building wheels for collected packages: sat-search, sat-stac\n",
            "  Building wheel for sat-search (setup.py) ... \u001b[?25l\u001b[?25hdone\n",
            "  Created wheel for sat-search: filename=sat_search-0.3.0-py3-none-any.whl size=18999 sha256=4cd2b94520ed28d845b2c84389b22f6a6dfc3c732c22ae938e74a40d40791165\n",
            "  Stored in directory: /root/.cache/pip/wheels/47/a4/5f/979b8745ce10a11f4f9dae3875d16474beab210fb14eb1db2f\n",
            "  Building wheel for sat-stac (setup.py) ... \u001b[?25l\u001b[?25hdone\n",
            "  Created wheel for sat-stac: filename=sat_stac-0.4.1-py3-none-any.whl size=15201 sha256=62b3a999084cc7f14b2028a67c1f13347d5be3b3ebc9d7dd134678e6bc6133b3\n",
            "  Stored in directory: /root/.cache/pip/wheels/0e/ea/22/e24263ceab28bab8d92c2b8a8597e2eab53c622a9a151e662f\n",
            "Successfully built sat-search sat-stac\n",
            "Installing collected packages: python-dateutil, sat-stac, sat-search\n",
            "  Attempting uninstall: python-dateutil\n",
            "    Found existing installation: python-dateutil 2.8.2\n",
            "    Uninstalling python-dateutil-2.8.2:\n",
            "      Successfully uninstalled python-dateutil-2.8.2\n",
            "\u001b[31mERROR: pip's dependency resolver does not currently take into account all the packages that are installed. This behaviour is the source of the following dependency conflicts.\n",
            "fbprophet 0.7.1 requires python-dateutil>=2.8.0, but you have python-dateutil 2.7.5 which is incompatible.\n",
            "albumentations 0.1.12 requires imgaug<0.2.7,>=0.2.5, but you have imgaug 0.2.9 which is incompatible.\u001b[0m\n",
            "Successfully installed python-dateutil-2.7.5 sat-search-0.3.0 sat-stac-0.4.1\n"
          ]
        },
        {
          "output_type": "display_data",
          "data": {
            "application/vnd.colab-display-data+json": {
              "pip_warning": {
                "packages": [
                  "dateutil"
                ]
              }
            }
          },
          "metadata": {}
        }
      ],
      "source": [
        "! git clone https://github.com/sat-utils/sat-search.git\n",
        "% cd sat-search\n",
        "! pip install ."
      ]
    },
    {
      "cell_type": "code",
      "source": [
        "! pip install rasterio"
      ],
      "metadata": {
        "colab": {
          "base_uri": "https://localhost:8080/"
        },
        "id": "LcwtwIJxUnv5",
        "outputId": "5e329a7c-5b0e-4cea-fa99-a0d03b82f2cd"
      },
      "execution_count": null,
      "outputs": [
        {
          "output_type": "stream",
          "name": "stdout",
          "text": [
            "Looking in indexes: https://pypi.org/simple, https://us-python.pkg.dev/colab-wheels/public/simple/\n",
            "Collecting rasterio\n",
            "  Downloading rasterio-1.2.10-cp37-cp37m-manylinux1_x86_64.whl (19.3 MB)\n",
            "\u001b[K     |████████████████████████████████| 19.3 MB 4.8 MB/s \n",
            "\u001b[?25hRequirement already satisfied: click>=4.0 in /usr/local/lib/python3.7/dist-packages (from rasterio) (7.1.2)\n",
            "Collecting snuggs>=1.4.1\n",
            "  Downloading snuggs-1.4.7-py3-none-any.whl (5.4 kB)\n",
            "Collecting affine\n",
            "  Downloading affine-2.3.1-py2.py3-none-any.whl (16 kB)\n",
            "Collecting cligj>=0.5\n",
            "  Downloading cligj-0.7.2-py3-none-any.whl (7.1 kB)\n",
            "Requirement already satisfied: attrs in /usr/local/lib/python3.7/dist-packages (from rasterio) (21.4.0)\n",
            "Requirement already satisfied: setuptools in /usr/local/lib/python3.7/dist-packages (from rasterio) (57.4.0)\n",
            "Requirement already satisfied: numpy in /usr/local/lib/python3.7/dist-packages (from rasterio) (1.21.6)\n",
            "Requirement already satisfied: certifi in /usr/local/lib/python3.7/dist-packages (from rasterio) (2022.5.18.1)\n",
            "Collecting click-plugins\n",
            "  Downloading click_plugins-1.1.1-py2.py3-none-any.whl (7.5 kB)\n",
            "Requirement already satisfied: pyparsing>=2.1.6 in /usr/local/lib/python3.7/dist-packages (from snuggs>=1.4.1->rasterio) (3.0.9)\n",
            "Installing collected packages: snuggs, cligj, click-plugins, affine, rasterio\n",
            "Successfully installed affine-2.3.1 click-plugins-1.1.1 cligj-0.7.2 rasterio-1.2.10 snuggs-1.4.7\n"
          ]
        }
      ]
    },
    {
      "cell_type": "code",
      "source": [
        "from satsearch import Search\n",
        "import rasterio as rio\n",
        "from rasterio.plot import show\n",
        "import matplotlib.pyplot as plt"
      ],
      "metadata": {
        "id": "x7aW1WJlUmbb"
      },
      "execution_count": null,
      "outputs": []
    },
    {
      "cell_type": "markdown",
      "source": [
        "## Simple Query\n",
        "\n",
        "Satsearch can take bounding boxes or Geojsons like Polygon. So let us start with a simple bounding box. We are using the Element84 free sentinel 2 data STAC API available in Amazon for free, but you can use any public STAC API endpoint."
      ],
      "metadata": {
        "id": "oKd4GMrhU19Y"
      }
    },
    {
      "cell_type": "code",
      "source": [
        "#https://www.element84.com/earth-search/\n",
        "bbox = [ 11.756057739257812,\n",
        "          57.649809962218995,\n",
        "          12.10693359375,\n",
        "          57.751442372568924\n",
        "       ]\n",
        "url = 'https://earth-search.aws.element84.com/v0'\n",
        "bbox_search = Search(bbox=bbox,  url=url)\n",
        "print('Query returned {} items'.format(bbox_search.found()))"
      ],
      "metadata": {
        "colab": {
          "base_uri": "https://localhost:8080/"
        },
        "id": "TDORItClU0my",
        "outputId": "163e492f-a30c-445f-8f34-5657bf1085e5"
      },
      "execution_count": null,
      "outputs": [
        {
          "output_type": "stream",
          "name": "stdout",
          "text": [
            "Query returned 8159 items\n"
          ]
        }
      ]
    },
    {
      "cell_type": "markdown",
      "source": [
        "With the Search method from satsearch, we can find out how many items are available in the bounding box.\n",
        "\n",
        "You can limit the data with other parameters like dates and cloud coverage. So let us add these parameters to the mix."
      ],
      "metadata": {
        "id": "G037J_e_VZgg"
      }
    },
    {
      "cell_type": "code",
      "source": [
        "bbox_search = Search(bbox=bbox, datetime=\"2021-01-01/2021-02-01\", query={'eo:cloud_cover': {'lt': 5}}, url=url)\n",
        "print('Query returned {} items'.format(bbox_search.found()))"
      ],
      "metadata": {
        "colab": {
          "base_uri": "https://localhost:8080/"
        },
        "id": "2OfC3kAJU6qM",
        "outputId": "bca321aa-4e73-4c01-c862-e13b8f62d897"
      },
      "execution_count": null,
      "outputs": [
        {
          "output_type": "stream",
          "name": "stdout",
          "text": [
            "Query returned 12 items\n"
          ]
        }
      ]
    },
    {
      "cell_type": "markdown",
      "source": [
        "The above code will return images between January to February 2021, with less than 5% cloud coverage.\n",
        "\n",
        "You can also bring in a bounding box from the Geopandas Geometry column or pass here a polygon coordinates like this, and it will work like the above example."
      ],
      "metadata": {
        "id": "vZ5FwM0UVgXk"
      }
    },
    {
      "cell_type": "code",
      "source": [
        "polygon = {\n",
        "    \"type\": \"Polygon\",\n",
        "    \"coordinates\": [\n",
        "        [\n",
        "            [11.756057739257812, 57.649809962218995],\n",
        "            [12.10693359375, 57.649809962218995],\n",
        "            [12.10693359375, 57.751442372568924],\n",
        "            [11.756057739257812, 57.751442372568924],\n",
        "            [11.756057739257812, 57.649809962218995],\n",
        "        ]\n",
        "    ],\n",
        "}\n",
        "intersect_search = Search(intersects=polygon, url=url)\n",
        "print('Query returned {} items'.format(bbox_search.found()))"
      ],
      "metadata": {
        "colab": {
          "base_uri": "https://localhost:8080/"
        },
        "id": "c5HyStPaVdy1",
        "outputId": "1e409345-bd2e-41a5-f407-cac69a803775"
      },
      "execution_count": null,
      "outputs": [
        {
          "output_type": "stream",
          "name": "stdout",
          "text": [
            "Query returned 12 items\n"
          ]
        }
      ]
    },
    {
      "cell_type": "markdown",
      "source": [
        "And we get the same results from the STAC catalog search.\n",
        "\n",
        "STAC Results\n",
        "Once you search and find out that some images are available for the given dates, you can fetch the results. Let us have more specific query parameters to filter out the returned number of scenes."
      ],
      "metadata": {
        "id": "_J7ISWLqVnR4"
      }
    },
    {
      "cell_type": "code",
      "source": [
        "bbox_search = Search(\n",
        "    bbox=bbox,\n",
        "    datetime=\"2020-10-01/2021-02-01\",\n",
        "    query={\"eo:cloud_cover\": {\"lt\": 1}},\n",
        "    collections=[\"sentinel-s2-l2a-cogs\"],\n",
        "    url=url,\n",
        ")\n",
        "items = bbox_search.items()\n",
        "print(items.summary())"
      ],
      "metadata": {
        "colab": {
          "base_uri": "https://localhost:8080/"
        },
        "id": "WzDSltdFVka0",
        "outputId": "b5f08b61-d95a-4887-bfad-5eb04183a761"
      },
      "execution_count": null,
      "outputs": [
        {
          "output_type": "stream",
          "name": "stdout",
          "text": [
            "Items (9):\n",
            "date                      id                        \n",
            "2020-12-25                S2B_32VPK_20201225_0_L2A  \n",
            "2020-11-30                S2A_32VPJ_20201130_0_L2A  \n",
            "2020-11-30                S2A_33VUD_20201130_0_L2A  \n",
            "2020-11-30                S2A_32VPK_20201130_0_L2A  \n",
            "2020-11-30                S2A_33VUE_20201130_0_L2A  \n",
            "2020-11-20                S2A_32VPJ_20201120_0_L2A  \n",
            "2020-11-20                S2A_33VUD_20201120_0_L2A  \n",
            "2020-11-20                S2A_32VPK_20201120_1_L2A  \n",
            "2020-11-20                S2A_33VUE_20201120_1_L2A  \n",
            "\n"
          ]
        }
      ]
    },
    {
      "cell_type": "markdown",
      "source": [
        "In the end, we are printing a summary of the returned data. So as you can see below, we have the image ID and the date taken.\n",
        "\n",
        "## Catalog Assets\n",
        "We can now call the asset metadata for the returned items. Let us take a look at the asset of the first item returned. The returned data type is JSON type, so we can use IPython JSON to prettify the result and also have the ability to filter out the data."
      ],
      "metadata": {
        "id": "FflCbGUCVr3E"
      }
    },
    {
      "cell_type": "code",
      "source": [
        "from IPython.display import JSON\n",
        "JSON(items[0].assets)"
      ],
      "metadata": {
        "colab": {
          "base_uri": "https://localhost:8080/",
          "height": 35
        },
        "id": "kAkBQiUqVpQB",
        "outputId": "43654b50-f3a0-4a05-9b67-50fb7068d776"
      },
      "execution_count": null,
      "outputs": [
        {
          "output_type": "execute_result",
          "data": {
            "text/plain": [
              "<IPython.core.display.JSON object>"
            ],
            "application/json": {
              "thumbnail": {
                "title": "Thumbnail",
                "type": "image/png",
                "roles": [
                  "thumbnail"
                ],
                "href": "https://roda.sentinel-hub.com/sentinel-s2-l1c/tiles/32/V/PK/2020/12/25/0/preview.jpg"
              },
              "overview": {
                "title": "True color image",
                "type": "image/tiff; application=geotiff; profile=cloud-optimized",
                "roles": [
                  "overview"
                ],
                "gsd": 10,
                "eo:bands": [
                  {
                    "name": "B04",
                    "common_name": "red",
                    "center_wavelength": 0.6645,
                    "full_width_half_max": 0.038
                  },
                  {
                    "name": "B03",
                    "common_name": "green",
                    "center_wavelength": 0.56,
                    "full_width_half_max": 0.045
                  },
                  {
                    "name": "B02",
                    "common_name": "blue",
                    "center_wavelength": 0.4966,
                    "full_width_half_max": 0.098
                  }
                ],
                "href": "https://sentinel-cogs.s3.us-west-2.amazonaws.com/sentinel-s2-l2a-cogs/32/V/PK/2020/12/S2B_32VPK_20201225_0_L2A/L2A_PVI.tif",
                "proj:shape": [
                  343,
                  343
                ],
                "proj:transform": [
                  320,
                  0,
                  600000,
                  0,
                  -320,
                  6500040,
                  0,
                  0,
                  1
                ]
              },
              "info": {
                "title": "Original JSON metadata",
                "type": "application/json",
                "roles": [
                  "metadata"
                ],
                "href": "https://roda.sentinel-hub.com/sentinel-s2-l2a/tiles/32/V/PK/2020/12/25/0/tileInfo.json"
              },
              "metadata": {
                "title": "Original XML metadata",
                "type": "application/xml",
                "roles": [
                  "metadata"
                ],
                "href": "https://roda.sentinel-hub.com/sentinel-s2-l2a/tiles/32/V/PK/2020/12/25/0/metadata.xml"
              },
              "visual": {
                "title": "True color image",
                "type": "image/tiff; application=geotiff; profile=cloud-optimized",
                "roles": [
                  "overview"
                ],
                "gsd": 10,
                "eo:bands": [
                  {
                    "name": "B04",
                    "common_name": "red",
                    "center_wavelength": 0.6645,
                    "full_width_half_max": 0.038
                  },
                  {
                    "name": "B03",
                    "common_name": "green",
                    "center_wavelength": 0.56,
                    "full_width_half_max": 0.045
                  },
                  {
                    "name": "B02",
                    "common_name": "blue",
                    "center_wavelength": 0.4966,
                    "full_width_half_max": 0.098
                  }
                ],
                "href": "https://sentinel-cogs.s3.us-west-2.amazonaws.com/sentinel-s2-l2a-cogs/32/V/PK/2020/12/S2B_32VPK_20201225_0_L2A/TCI.tif",
                "proj:shape": [
                  10980,
                  10980
                ],
                "proj:transform": [
                  10,
                  0,
                  600000,
                  0,
                  -10,
                  6500040,
                  0,
                  0,
                  1
                ]
              },
              "B01": {
                "title": "Band 1 (coastal)",
                "type": "image/tiff; application=geotiff; profile=cloud-optimized",
                "roles": [
                  "data"
                ],
                "gsd": 60,
                "eo:bands": [
                  {
                    "name": "B01",
                    "common_name": "coastal",
                    "center_wavelength": 0.4439,
                    "full_width_half_max": 0.027
                  }
                ],
                "href": "https://sentinel-cogs.s3.us-west-2.amazonaws.com/sentinel-s2-l2a-cogs/32/V/PK/2020/12/S2B_32VPK_20201225_0_L2A/B01.tif",
                "proj:shape": [
                  1830,
                  1830
                ],
                "proj:transform": [
                  60,
                  0,
                  600000,
                  0,
                  -60,
                  6500040,
                  0,
                  0,
                  1
                ]
              },
              "B02": {
                "title": "Band 2 (blue)",
                "type": "image/tiff; application=geotiff; profile=cloud-optimized",
                "roles": [
                  "data"
                ],
                "gsd": 10,
                "eo:bands": [
                  {
                    "name": "B02",
                    "common_name": "blue",
                    "center_wavelength": 0.4966,
                    "full_width_half_max": 0.098
                  }
                ],
                "href": "https://sentinel-cogs.s3.us-west-2.amazonaws.com/sentinel-s2-l2a-cogs/32/V/PK/2020/12/S2B_32VPK_20201225_0_L2A/B02.tif",
                "proj:shape": [
                  10980,
                  10980
                ],
                "proj:transform": [
                  10,
                  0,
                  600000,
                  0,
                  -10,
                  6500040,
                  0,
                  0,
                  1
                ]
              },
              "B03": {
                "title": "Band 3 (green)",
                "type": "image/tiff; application=geotiff; profile=cloud-optimized",
                "roles": [
                  "data"
                ],
                "gsd": 10,
                "eo:bands": [
                  {
                    "name": "B03",
                    "common_name": "green",
                    "center_wavelength": 0.56,
                    "full_width_half_max": 0.045
                  }
                ],
                "href": "https://sentinel-cogs.s3.us-west-2.amazonaws.com/sentinel-s2-l2a-cogs/32/V/PK/2020/12/S2B_32VPK_20201225_0_L2A/B03.tif",
                "proj:shape": [
                  10980,
                  10980
                ],
                "proj:transform": [
                  10,
                  0,
                  600000,
                  0,
                  -10,
                  6500040,
                  0,
                  0,
                  1
                ]
              },
              "B04": {
                "title": "Band 4 (red)",
                "type": "image/tiff; application=geotiff; profile=cloud-optimized",
                "roles": [
                  "data"
                ],
                "gsd": 10,
                "eo:bands": [
                  {
                    "name": "B04",
                    "common_name": "red",
                    "center_wavelength": 0.6645,
                    "full_width_half_max": 0.038
                  }
                ],
                "href": "https://sentinel-cogs.s3.us-west-2.amazonaws.com/sentinel-s2-l2a-cogs/32/V/PK/2020/12/S2B_32VPK_20201225_0_L2A/B04.tif",
                "proj:shape": [
                  10980,
                  10980
                ],
                "proj:transform": [
                  10,
                  0,
                  600000,
                  0,
                  -10,
                  6500040,
                  0,
                  0,
                  1
                ]
              },
              "B05": {
                "title": "Band 5",
                "type": "image/tiff; application=geotiff; profile=cloud-optimized",
                "roles": [
                  "data"
                ],
                "gsd": 20,
                "eo:bands": [
                  {
                    "name": "B05",
                    "center_wavelength": 0.7039,
                    "full_width_half_max": 0.019
                  }
                ],
                "href": "https://sentinel-cogs.s3.us-west-2.amazonaws.com/sentinel-s2-l2a-cogs/32/V/PK/2020/12/S2B_32VPK_20201225_0_L2A/B05.tif",
                "proj:shape": [
                  5490,
                  5490
                ],
                "proj:transform": [
                  20,
                  0,
                  600000,
                  0,
                  -20,
                  6500040,
                  0,
                  0,
                  1
                ]
              },
              "B06": {
                "title": "Band 6",
                "type": "image/tiff; application=geotiff; profile=cloud-optimized",
                "roles": [
                  "data"
                ],
                "gsd": 20,
                "eo:bands": [
                  {
                    "name": "B06",
                    "center_wavelength": 0.7402,
                    "full_width_half_max": 0.018
                  }
                ],
                "href": "https://sentinel-cogs.s3.us-west-2.amazonaws.com/sentinel-s2-l2a-cogs/32/V/PK/2020/12/S2B_32VPK_20201225_0_L2A/B06.tif",
                "proj:shape": [
                  5490,
                  5490
                ],
                "proj:transform": [
                  20,
                  0,
                  600000,
                  0,
                  -20,
                  6500040,
                  0,
                  0,
                  1
                ]
              },
              "B07": {
                "title": "Band 7",
                "type": "image/tiff; application=geotiff; profile=cloud-optimized",
                "roles": [
                  "data"
                ],
                "gsd": 20,
                "eo:bands": [
                  {
                    "name": "B07",
                    "center_wavelength": 0.7825,
                    "full_width_half_max": 0.028
                  }
                ],
                "href": "https://sentinel-cogs.s3.us-west-2.amazonaws.com/sentinel-s2-l2a-cogs/32/V/PK/2020/12/S2B_32VPK_20201225_0_L2A/B07.tif",
                "proj:shape": [
                  5490,
                  5490
                ],
                "proj:transform": [
                  20,
                  0,
                  600000,
                  0,
                  -20,
                  6500040,
                  0,
                  0,
                  1
                ]
              },
              "B08": {
                "title": "Band 8 (nir)",
                "type": "image/tiff; application=geotiff; profile=cloud-optimized",
                "roles": [
                  "data"
                ],
                "gsd": 10,
                "eo:bands": [
                  {
                    "name": "B08",
                    "common_name": "nir",
                    "center_wavelength": 0.8351,
                    "full_width_half_max": 0.145
                  }
                ],
                "href": "https://sentinel-cogs.s3.us-west-2.amazonaws.com/sentinel-s2-l2a-cogs/32/V/PK/2020/12/S2B_32VPK_20201225_0_L2A/B08.tif",
                "proj:shape": [
                  10980,
                  10980
                ],
                "proj:transform": [
                  10,
                  0,
                  600000,
                  0,
                  -10,
                  6500040,
                  0,
                  0,
                  1
                ]
              },
              "B8A": {
                "title": "Band 8A",
                "type": "image/tiff; application=geotiff; profile=cloud-optimized",
                "roles": [
                  "data"
                ],
                "gsd": 20,
                "eo:bands": [
                  {
                    "name": "B8A",
                    "center_wavelength": 0.8648,
                    "full_width_half_max": 0.033
                  }
                ],
                "href": "https://sentinel-cogs.s3.us-west-2.amazonaws.com/sentinel-s2-l2a-cogs/32/V/PK/2020/12/S2B_32VPK_20201225_0_L2A/B8A.tif",
                "proj:shape": [
                  5490,
                  5490
                ],
                "proj:transform": [
                  20,
                  0,
                  600000,
                  0,
                  -20,
                  6500040,
                  0,
                  0,
                  1
                ]
              },
              "B09": {
                "title": "Band 9",
                "type": "image/tiff; application=geotiff; profile=cloud-optimized",
                "roles": [
                  "data"
                ],
                "gsd": 60,
                "eo:bands": [
                  {
                    "name": "B09",
                    "center_wavelength": 0.945,
                    "full_width_half_max": 0.026
                  }
                ],
                "href": "https://sentinel-cogs.s3.us-west-2.amazonaws.com/sentinel-s2-l2a-cogs/32/V/PK/2020/12/S2B_32VPK_20201225_0_L2A/B09.tif",
                "proj:shape": [
                  1830,
                  1830
                ],
                "proj:transform": [
                  60,
                  0,
                  600000,
                  0,
                  -60,
                  6500040,
                  0,
                  0,
                  1
                ]
              },
              "B11": {
                "title": "Band 11 (swir16)",
                "type": "image/tiff; application=geotiff; profile=cloud-optimized",
                "roles": [
                  "data"
                ],
                "gsd": 20,
                "eo:bands": [
                  {
                    "name": "B11",
                    "common_name": "swir16",
                    "center_wavelength": 1.6137,
                    "full_width_half_max": 0.143
                  }
                ],
                "href": "https://sentinel-cogs.s3.us-west-2.amazonaws.com/sentinel-s2-l2a-cogs/32/V/PK/2020/12/S2B_32VPK_20201225_0_L2A/B11.tif",
                "proj:shape": [
                  5490,
                  5490
                ],
                "proj:transform": [
                  20,
                  0,
                  600000,
                  0,
                  -20,
                  6500040,
                  0,
                  0,
                  1
                ]
              },
              "B12": {
                "title": "Band 12 (swir22)",
                "type": "image/tiff; application=geotiff; profile=cloud-optimized",
                "roles": [
                  "data"
                ],
                "gsd": 20,
                "eo:bands": [
                  {
                    "name": "B12",
                    "common_name": "swir22",
                    "center_wavelength": 2.22024,
                    "full_width_half_max": 0.242
                  }
                ],
                "href": "https://sentinel-cogs.s3.us-west-2.amazonaws.com/sentinel-s2-l2a-cogs/32/V/PK/2020/12/S2B_32VPK_20201225_0_L2A/B12.tif",
                "proj:shape": [
                  5490,
                  5490
                ],
                "proj:transform": [
                  20,
                  0,
                  600000,
                  0,
                  -20,
                  6500040,
                  0,
                  0,
                  1
                ]
              },
              "AOT": {
                "title": "Aerosol Optical Thickness (AOT)",
                "type": "image/tiff; application=geotiff; profile=cloud-optimized",
                "roles": [
                  "data"
                ],
                "href": "https://sentinel-cogs.s3.us-west-2.amazonaws.com/sentinel-s2-l2a-cogs/32/V/PK/2020/12/S2B_32VPK_20201225_0_L2A/AOT.tif",
                "proj:shape": [
                  1830,
                  1830
                ],
                "proj:transform": [
                  60,
                  0,
                  600000,
                  0,
                  -60,
                  6500040,
                  0,
                  0,
                  1
                ]
              },
              "WVP": {
                "title": "Water Vapour (WVP)",
                "type": "image/tiff; application=geotiff; profile=cloud-optimized",
                "roles": [
                  "data"
                ],
                "href": "https://sentinel-cogs.s3.us-west-2.amazonaws.com/sentinel-s2-l2a-cogs/32/V/PK/2020/12/S2B_32VPK_20201225_0_L2A/WVP.tif",
                "proj:shape": [
                  10980,
                  10980
                ],
                "proj:transform": [
                  10,
                  0,
                  600000,
                  0,
                  -10,
                  6500040,
                  0,
                  0,
                  1
                ]
              },
              "SCL": {
                "title": "Scene Classification Map (SCL)",
                "type": "image/tiff; application=geotiff; profile=cloud-optimized",
                "roles": [
                  "data"
                ],
                "href": "https://sentinel-cogs.s3.us-west-2.amazonaws.com/sentinel-s2-l2a-cogs/32/V/PK/2020/12/S2B_32VPK_20201225_0_L2A/SCL.tif",
                "proj:shape": [
                  5490,
                  5490
                ],
                "proj:transform": [
                  20,
                  0,
                  600000,
                  0,
                  -20,
                  6500040,
                  0,
                  0,
                  1
                ]
              }
            }
          },
          "metadata": {},
          "execution_count": 9
        }
      ]
    },
    {
      "cell_type": "code",
      "source": [
        "items[0]"
      ],
      "metadata": {
        "colab": {
          "base_uri": "https://localhost:8080/"
        },
        "id": "7FlF-MR7WIL8",
        "outputId": "c2593d04-eeb6-4ac3-c1ba-6eda7ee8f5a0"
      },
      "execution_count": null,
      "outputs": [
        {
          "output_type": "execute_result",
          "data": {
            "text/plain": [
              "S2B_32VPK_20201225_0_L2A"
            ]
          },
          "metadata": {},
          "execution_count": 12
        }
      ]
    },
    {
      "cell_type": "markdown",
      "source": [
        "So this is very convenient, and you can look at the asset metadata of any item inside Jupyter Notebook. Note that you can save this in JSON and open it in Jupyter, and it will render it also as JSON.\n",
        "\n",
        "## NDVI with COGS\n",
        "You can copy the URL for the COG TIF images and read them with any other Desktop GIS Software. But you can also use the asset method to access specific bands and read them with Rasterio inside Jupyter Notebook. The good thing about this is that you can use the bands' common names to access specific bands and items.\n",
        "\n",
        "Let us calculate the NDVI values from the Red (B4) and Near-Infrared Band (B8)."
      ],
      "metadata": {
        "id": "It5TMpfoV4sM"
      }
    },
    {
      "cell_type": "code",
      "source": [
        "# Read and open(B4 and B8)\n",
        "b4 = rio.open(items[0].assets(“red”)[“href”])\n",
        "b8 = rio.open(items[0].assets(“nir”)[“href”])\n",
        "red = b4.read()\n",
        "nir = b8.read()\n",
        "# Calculate ndvi\n",
        "ndvi = (nir.astype(float)-red.astype(float))/(nir+red)"
      ],
      "metadata": {
        "colab": {
          "base_uri": "https://localhost:8080/",
          "height": 136
        },
        "id": "Fh5vC-EtUqXP",
        "outputId": "14c47197-6cb9-4683-ec05-1ca7c63952dd"
      },
      "execution_count": null,
      "outputs": [
        {
          "output_type": "error",
          "ename": "SyntaxError",
          "evalue": "ignored",
          "traceback": [
            "\u001b[0;36m  File \u001b[0;32m\"<ipython-input-10-d530282f1e20>\"\u001b[0;36m, line \u001b[0;32m2\u001b[0m\n\u001b[0;31m    b4 = rio.open(items[0].asset(“red”)[“href”])\u001b[0m\n\u001b[0m                                     ^\u001b[0m\n\u001b[0;31mSyntaxError\u001b[0m\u001b[0;31m:\u001b[0m invalid character in identifier\n"
          ]
        }
      ]
    },
    {
      "cell_type": "code",
      "source": [
        "items[0].assets(“red”)[“href”]"
      ],
      "metadata": {
        "colab": {
          "base_uri": "https://localhost:8080/",
          "height": 136
        },
        "id": "FTU2DpoWWGoG",
        "outputId": "14a678f9-c978-419e-e762-573bc4f33a59"
      },
      "execution_count": null,
      "outputs": [
        {
          "output_type": "error",
          "ename": "SyntaxError",
          "evalue": "ignored",
          "traceback": [
            "\u001b[0;36m  File \u001b[0;32m\"<ipython-input-14-3446f64ca7af>\"\u001b[0;36m, line \u001b[0;32m1\u001b[0m\n\u001b[0;31m    items[0].assets(“red”)[“href”]\u001b[0m\n\u001b[0m                        ^\u001b[0m\n\u001b[0;31mSyntaxError\u001b[0m\u001b[0;31m:\u001b[0m invalid character in identifier\n"
          ]
        }
      ]
    },
    {
      "cell_type": "code",
      "source": [
        "# 从noaa获取数据"
      ],
      "metadata": {
        "id": "9Uhj2pHgZoQp"
      },
      "execution_count": null,
      "outputs": []
    },
    {
      "cell_type": "code",
      "source": [
        "import xarray as xr"
      ],
      "metadata": {
        "id": "xx7w6YSSZrx0"
      },
      "execution_count": null,
      "outputs": []
    },
    {
      "cell_type": "code",
      "source": [
        "baseURL = 'http://www.esrl.noaa.gov'\n",
        "catalogURL = '/psd/thredds/dodsC/Datasets/noaa.ersst.v5/sst.mnmean.nc'\n",
        "sst = xr.open_dataset(baseURL+catalogURL)\n",
        "print(sst)"
      ],
      "metadata": {
        "colab": {
          "base_uri": "https://localhost:8080/"
        },
        "id": "lvCa2U0ZZrEp",
        "outputId": "d8cafb67-5846-456f-c799-c50109aeb44d"
      },
      "execution_count": null,
      "outputs": [
        {
          "output_type": "stream",
          "name": "stdout",
          "text": [
            "<xarray.Dataset>\n",
            "Dimensions:    (lat: 89, lon: 180, time: 2020, nbnds: 2)\n",
            "Coordinates:\n",
            "  * lat        (lat) float32 88.0 86.0 84.0 82.0 ... -82.0 -84.0 -86.0 -88.0\n",
            "  * lon        (lon) float32 0.0 2.0 4.0 6.0 8.0 ... 352.0 354.0 356.0 358.0\n",
            "  * time       (time) datetime64[ns] 1854-01-01 1854-02-01 ... 2022-04-01\n",
            "Dimensions without coordinates: nbnds\n",
            "Data variables:\n",
            "    time_bnds  (time, nbnds) float64 ...\n",
            "    sst        (time, lat, lon) float32 ...\n",
            "Attributes: (12/38)\n",
            "    climatology:                     Climatology is based on 1971-2000 SST, X...\n",
            "    description:                     In situ data: ICOADS2.5 before 2007 and ...\n",
            "    keywords_vocabulary:             NASA Global Change Master Directory (GCM...\n",
            "    keywords:                        Earth Science > Oceans > Ocean Temperatu...\n",
            "    instrument:                      Conventional thermometers\n",
            "    source_comment:                  SSTs were observed by conventional therm...\n",
            "    ...                              ...\n",
            "    license:                         No constraints on data access or use\n",
            "    comment:                         SSTs were observed by conventional therm...\n",
            "    summary:                         ERSST.v5 is developed based on v4 after ...\n",
            "    dataset_title:                   NOAA Extended Reconstructed SST V5\n",
            "    data_modified:                   2022-05-07\n",
            "    DODS_EXTRA.Unlimited_Dimension:  time\n"
          ]
        }
      ]
    },
    {
      "cell_type": "code",
      "source": [
        "! wget https://psl.noaa.gov/thredds/catalog/Datasets/COBE/catalog.html?dataset=Datasets/COBE/sst.mon.mean.nc\n"
      ],
      "metadata": {
        "colab": {
          "base_uri": "https://localhost:8080/"
        },
        "id": "QMvuVDuKa2Yi",
        "outputId": "5bf2c49a-7f55-4ecd-db69-040674393c66"
      },
      "execution_count": null,
      "outputs": [
        {
          "output_type": "stream",
          "name": "stdout",
          "text": [
            "--2022-05-25 18:18:10--  https://psl.noaa.gov/thredds/catalog/Datasets/COBE/catalog.html?dataset=Datasets/COBE/sst.mon.mean.nc\n",
            "Resolving psl.noaa.gov (psl.noaa.gov)... 140.172.38.12\n",
            "Connecting to psl.noaa.gov (psl.noaa.gov)|140.172.38.12|:443... connected.\n",
            "HTTP request sent, awaiting response... 200 \n",
            "Length: unspecified [text/html]\n",
            "Saving to: ‘catalog.html?dataset=Datasets%2FCOBE%2Fsst.mon.mean.nc’\n",
            "\n",
            "catalog.html?datase     [ <=>                ]   2.42K  --.-KB/s    in 0s      \n",
            "\n",
            "2022-05-25 18:18:10 (152 MB/s) - ‘catalog.html?dataset=Datasets%2FCOBE%2Fsst.mon.mean.nc’ saved [2474]\n",
            "\n"
          ]
        }
      ]
    },
    {
      "cell_type": "code",
      "source": [
        "test = xr.open_dataset('https://psl.noaa.gov/thredds/dodsC/Datasets/kaplan_sst/sst.mon.anom.nc')\n",
        "test"
      ],
      "metadata": {
        "colab": {
          "base_uri": "https://localhost:8080/",
          "height": 470
        },
        "id": "myB4eRMCcMCs",
        "outputId": "5551f03c-7900-41f7-a75c-b7d9944f0785"
      },
      "execution_count": null,
      "outputs": [
        {
          "output_type": "execute_result",
          "data": {
            "text/plain": [
              "<xarray.Dataset>\n",
              "Dimensions:  (lon: 72, time: 1996, lat: 36)\n",
              "Coordinates:\n",
              "  * lon      (lon) float32 2.5 7.5 12.5 17.5 22.5 ... 342.5 347.5 352.5 357.5\n",
              "  * time     (time) datetime64[ns] 1856-01-01 1856-02-01 ... 2022-04-01\n",
              "  * lat      (lat) float32 -87.5 -82.5 -77.5 -72.5 -67.5 ... 72.5 77.5 82.5 87.5\n",
              "Data variables:\n",
              "    sst      (time, lat, lon) float32 ...\n",
              "Attributes:\n",
              "    title:                           Kaplan Extended SST V2\n",
              "    platform:                        Analysis\n",
              "    Conventions:                     COARDS\n",
              "    history:                         Originally converted from the IRI format...\n",
              "    dataset_title:                   Kaplan Extended V2 SST anomaly data\n",
              "    description:                     Data is processed at Lamont-Doherty usin...\n",
              "    References:                      https://www.psl.noaa.gov/data/gridded/da...\n",
              "    DODS_EXTRA.Unlimited_Dimension:  time"
            ],
            "text/html": [
              "<div><svg style=\"position: absolute; width: 0; height: 0; overflow: hidden\">\n",
              "<defs>\n",
              "<symbol id=\"icon-database\" viewBox=\"0 0 32 32\">\n",
              "<path d=\"M16 0c-8.837 0-16 2.239-16 5v4c0 2.761 7.163 5 16 5s16-2.239 16-5v-4c0-2.761-7.163-5-16-5z\"></path>\n",
              "<path d=\"M16 17c-8.837 0-16-2.239-16-5v6c0 2.761 7.163 5 16 5s16-2.239 16-5v-6c0 2.761-7.163 5-16 5z\"></path>\n",
              "<path d=\"M16 26c-8.837 0-16-2.239-16-5v6c0 2.761 7.163 5 16 5s16-2.239 16-5v-6c0 2.761-7.163 5-16 5z\"></path>\n",
              "</symbol>\n",
              "<symbol id=\"icon-file-text2\" viewBox=\"0 0 32 32\">\n",
              "<path d=\"M28.681 7.159c-0.694-0.947-1.662-2.053-2.724-3.116s-2.169-2.030-3.116-2.724c-1.612-1.182-2.393-1.319-2.841-1.319h-15.5c-1.378 0-2.5 1.121-2.5 2.5v27c0 1.378 1.122 2.5 2.5 2.5h23c1.378 0 2.5-1.122 2.5-2.5v-19.5c0-0.448-0.137-1.23-1.319-2.841zM24.543 5.457c0.959 0.959 1.712 1.825 2.268 2.543h-4.811v-4.811c0.718 0.556 1.584 1.309 2.543 2.268zM28 29.5c0 0.271-0.229 0.5-0.5 0.5h-23c-0.271 0-0.5-0.229-0.5-0.5v-27c0-0.271 0.229-0.5 0.5-0.5 0 0 15.499-0 15.5 0v7c0 0.552 0.448 1 1 1h7v19.5z\"></path>\n",
              "<path d=\"M23 26h-14c-0.552 0-1-0.448-1-1s0.448-1 1-1h14c0.552 0 1 0.448 1 1s-0.448 1-1 1z\"></path>\n",
              "<path d=\"M23 22h-14c-0.552 0-1-0.448-1-1s0.448-1 1-1h14c0.552 0 1 0.448 1 1s-0.448 1-1 1z\"></path>\n",
              "<path d=\"M23 18h-14c-0.552 0-1-0.448-1-1s0.448-1 1-1h14c0.552 0 1 0.448 1 1s-0.448 1-1 1z\"></path>\n",
              "</symbol>\n",
              "</defs>\n",
              "</svg>\n",
              "<style>/* CSS stylesheet for displaying xarray objects in jupyterlab.\n",
              " *\n",
              " */\n",
              "\n",
              ":root {\n",
              "  --xr-font-color0: var(--jp-content-font-color0, rgba(0, 0, 0, 1));\n",
              "  --xr-font-color2: var(--jp-content-font-color2, rgba(0, 0, 0, 0.54));\n",
              "  --xr-font-color3: var(--jp-content-font-color3, rgba(0, 0, 0, 0.38));\n",
              "  --xr-border-color: var(--jp-border-color2, #e0e0e0);\n",
              "  --xr-disabled-color: var(--jp-layout-color3, #bdbdbd);\n",
              "  --xr-background-color: var(--jp-layout-color0, white);\n",
              "  --xr-background-color-row-even: var(--jp-layout-color1, white);\n",
              "  --xr-background-color-row-odd: var(--jp-layout-color2, #eeeeee);\n",
              "}\n",
              "\n",
              "html[theme=dark],\n",
              "body.vscode-dark {\n",
              "  --xr-font-color0: rgba(255, 255, 255, 1);\n",
              "  --xr-font-color2: rgba(255, 255, 255, 0.54);\n",
              "  --xr-font-color3: rgba(255, 255, 255, 0.38);\n",
              "  --xr-border-color: #1F1F1F;\n",
              "  --xr-disabled-color: #515151;\n",
              "  --xr-background-color: #111111;\n",
              "  --xr-background-color-row-even: #111111;\n",
              "  --xr-background-color-row-odd: #313131;\n",
              "}\n",
              "\n",
              ".xr-wrap {\n",
              "  display: block !important;\n",
              "  min-width: 300px;\n",
              "  max-width: 700px;\n",
              "}\n",
              "\n",
              ".xr-text-repr-fallback {\n",
              "  /* fallback to plain text repr when CSS is not injected (untrusted notebook) */\n",
              "  display: none;\n",
              "}\n",
              "\n",
              ".xr-header {\n",
              "  padding-top: 6px;\n",
              "  padding-bottom: 6px;\n",
              "  margin-bottom: 4px;\n",
              "  border-bottom: solid 1px var(--xr-border-color);\n",
              "}\n",
              "\n",
              ".xr-header > div,\n",
              ".xr-header > ul {\n",
              "  display: inline;\n",
              "  margin-top: 0;\n",
              "  margin-bottom: 0;\n",
              "}\n",
              "\n",
              ".xr-obj-type,\n",
              ".xr-array-name {\n",
              "  margin-left: 2px;\n",
              "  margin-right: 10px;\n",
              "}\n",
              "\n",
              ".xr-obj-type {\n",
              "  color: var(--xr-font-color2);\n",
              "}\n",
              "\n",
              ".xr-sections {\n",
              "  padding-left: 0 !important;\n",
              "  display: grid;\n",
              "  grid-template-columns: 150px auto auto 1fr 20px 20px;\n",
              "}\n",
              "\n",
              ".xr-section-item {\n",
              "  display: contents;\n",
              "}\n",
              "\n",
              ".xr-section-item input {\n",
              "  display: none;\n",
              "}\n",
              "\n",
              ".xr-section-item input + label {\n",
              "  color: var(--xr-disabled-color);\n",
              "}\n",
              "\n",
              ".xr-section-item input:enabled + label {\n",
              "  cursor: pointer;\n",
              "  color: var(--xr-font-color2);\n",
              "}\n",
              "\n",
              ".xr-section-item input:enabled + label:hover {\n",
              "  color: var(--xr-font-color0);\n",
              "}\n",
              "\n",
              ".xr-section-summary {\n",
              "  grid-column: 1;\n",
              "  color: var(--xr-font-color2);\n",
              "  font-weight: 500;\n",
              "}\n",
              "\n",
              ".xr-section-summary > span {\n",
              "  display: inline-block;\n",
              "  padding-left: 0.5em;\n",
              "}\n",
              "\n",
              ".xr-section-summary-in:disabled + label {\n",
              "  color: var(--xr-font-color2);\n",
              "}\n",
              "\n",
              ".xr-section-summary-in + label:before {\n",
              "  display: inline-block;\n",
              "  content: '►';\n",
              "  font-size: 11px;\n",
              "  width: 15px;\n",
              "  text-align: center;\n",
              "}\n",
              "\n",
              ".xr-section-summary-in:disabled + label:before {\n",
              "  color: var(--xr-disabled-color);\n",
              "}\n",
              "\n",
              ".xr-section-summary-in:checked + label:before {\n",
              "  content: '▼';\n",
              "}\n",
              "\n",
              ".xr-section-summary-in:checked + label > span {\n",
              "  display: none;\n",
              "}\n",
              "\n",
              ".xr-section-summary,\n",
              ".xr-section-inline-details {\n",
              "  padding-top: 4px;\n",
              "  padding-bottom: 4px;\n",
              "}\n",
              "\n",
              ".xr-section-inline-details {\n",
              "  grid-column: 2 / -1;\n",
              "}\n",
              "\n",
              ".xr-section-details {\n",
              "  display: none;\n",
              "  grid-column: 1 / -1;\n",
              "  margin-bottom: 5px;\n",
              "}\n",
              "\n",
              ".xr-section-summary-in:checked ~ .xr-section-details {\n",
              "  display: contents;\n",
              "}\n",
              "\n",
              ".xr-array-wrap {\n",
              "  grid-column: 1 / -1;\n",
              "  display: grid;\n",
              "  grid-template-columns: 20px auto;\n",
              "}\n",
              "\n",
              ".xr-array-wrap > label {\n",
              "  grid-column: 1;\n",
              "  vertical-align: top;\n",
              "}\n",
              "\n",
              ".xr-preview {\n",
              "  color: var(--xr-font-color3);\n",
              "}\n",
              "\n",
              ".xr-array-preview,\n",
              ".xr-array-data {\n",
              "  padding: 0 5px !important;\n",
              "  grid-column: 2;\n",
              "}\n",
              "\n",
              ".xr-array-data,\n",
              ".xr-array-in:checked ~ .xr-array-preview {\n",
              "  display: none;\n",
              "}\n",
              "\n",
              ".xr-array-in:checked ~ .xr-array-data,\n",
              ".xr-array-preview {\n",
              "  display: inline-block;\n",
              "}\n",
              "\n",
              ".xr-dim-list {\n",
              "  display: inline-block !important;\n",
              "  list-style: none;\n",
              "  padding: 0 !important;\n",
              "  margin: 0;\n",
              "}\n",
              "\n",
              ".xr-dim-list li {\n",
              "  display: inline-block;\n",
              "  padding: 0;\n",
              "  margin: 0;\n",
              "}\n",
              "\n",
              ".xr-dim-list:before {\n",
              "  content: '(';\n",
              "}\n",
              "\n",
              ".xr-dim-list:after {\n",
              "  content: ')';\n",
              "}\n",
              "\n",
              ".xr-dim-list li:not(:last-child):after {\n",
              "  content: ',';\n",
              "  padding-right: 5px;\n",
              "}\n",
              "\n",
              ".xr-has-index {\n",
              "  font-weight: bold;\n",
              "}\n",
              "\n",
              ".xr-var-list,\n",
              ".xr-var-item {\n",
              "  display: contents;\n",
              "}\n",
              "\n",
              ".xr-var-item > div,\n",
              ".xr-var-item label,\n",
              ".xr-var-item > .xr-var-name span {\n",
              "  background-color: var(--xr-background-color-row-even);\n",
              "  margin-bottom: 0;\n",
              "}\n",
              "\n",
              ".xr-var-item > .xr-var-name:hover span {\n",
              "  padding-right: 5px;\n",
              "}\n",
              "\n",
              ".xr-var-list > li:nth-child(odd) > div,\n",
              ".xr-var-list > li:nth-child(odd) > label,\n",
              ".xr-var-list > li:nth-child(odd) > .xr-var-name span {\n",
              "  background-color: var(--xr-background-color-row-odd);\n",
              "}\n",
              "\n",
              ".xr-var-name {\n",
              "  grid-column: 1;\n",
              "}\n",
              "\n",
              ".xr-var-dims {\n",
              "  grid-column: 2;\n",
              "}\n",
              "\n",
              ".xr-var-dtype {\n",
              "  grid-column: 3;\n",
              "  text-align: right;\n",
              "  color: var(--xr-font-color2);\n",
              "}\n",
              "\n",
              ".xr-var-preview {\n",
              "  grid-column: 4;\n",
              "}\n",
              "\n",
              ".xr-var-name,\n",
              ".xr-var-dims,\n",
              ".xr-var-dtype,\n",
              ".xr-preview,\n",
              ".xr-attrs dt {\n",
              "  white-space: nowrap;\n",
              "  overflow: hidden;\n",
              "  text-overflow: ellipsis;\n",
              "  padding-right: 10px;\n",
              "}\n",
              "\n",
              ".xr-var-name:hover,\n",
              ".xr-var-dims:hover,\n",
              ".xr-var-dtype:hover,\n",
              ".xr-attrs dt:hover {\n",
              "  overflow: visible;\n",
              "  width: auto;\n",
              "  z-index: 1;\n",
              "}\n",
              "\n",
              ".xr-var-attrs,\n",
              ".xr-var-data {\n",
              "  display: none;\n",
              "  background-color: var(--xr-background-color) !important;\n",
              "  padding-bottom: 5px !important;\n",
              "}\n",
              "\n",
              ".xr-var-attrs-in:checked ~ .xr-var-attrs,\n",
              ".xr-var-data-in:checked ~ .xr-var-data {\n",
              "  display: block;\n",
              "}\n",
              "\n",
              ".xr-var-data > table {\n",
              "  float: right;\n",
              "}\n",
              "\n",
              ".xr-var-name span,\n",
              ".xr-var-data,\n",
              ".xr-attrs {\n",
              "  padding-left: 25px !important;\n",
              "}\n",
              "\n",
              ".xr-attrs,\n",
              ".xr-var-attrs,\n",
              ".xr-var-data {\n",
              "  grid-column: 1 / -1;\n",
              "}\n",
              "\n",
              "dl.xr-attrs {\n",
              "  padding: 0;\n",
              "  margin: 0;\n",
              "  display: grid;\n",
              "  grid-template-columns: 125px auto;\n",
              "}\n",
              "\n",
              ".xr-attrs dt,\n",
              ".xr-attrs dd {\n",
              "  padding: 0;\n",
              "  margin: 0;\n",
              "  float: left;\n",
              "  padding-right: 10px;\n",
              "  width: auto;\n",
              "}\n",
              "\n",
              ".xr-attrs dt {\n",
              "  font-weight: normal;\n",
              "  grid-column: 1;\n",
              "}\n",
              "\n",
              ".xr-attrs dt:hover span {\n",
              "  display: inline-block;\n",
              "  background: var(--xr-background-color);\n",
              "  padding-right: 10px;\n",
              "}\n",
              "\n",
              ".xr-attrs dd {\n",
              "  grid-column: 2;\n",
              "  white-space: pre-wrap;\n",
              "  word-break: break-all;\n",
              "}\n",
              "\n",
              ".xr-icon-database,\n",
              ".xr-icon-file-text2 {\n",
              "  display: inline-block;\n",
              "  vertical-align: middle;\n",
              "  width: 1em;\n",
              "  height: 1.5em !important;\n",
              "  stroke-width: 0;\n",
              "  stroke: currentColor;\n",
              "  fill: currentColor;\n",
              "}\n",
              "</style><pre class='xr-text-repr-fallback'>&lt;xarray.Dataset&gt;\n",
              "Dimensions:  (lon: 72, time: 1996, lat: 36)\n",
              "Coordinates:\n",
              "  * lon      (lon) float32 2.5 7.5 12.5 17.5 22.5 ... 342.5 347.5 352.5 357.5\n",
              "  * time     (time) datetime64[ns] 1856-01-01 1856-02-01 ... 2022-04-01\n",
              "  * lat      (lat) float32 -87.5 -82.5 -77.5 -72.5 -67.5 ... 72.5 77.5 82.5 87.5\n",
              "Data variables:\n",
              "    sst      (time, lat, lon) float32 ...\n",
              "Attributes:\n",
              "    title:                           Kaplan Extended SST V2\n",
              "    platform:                        Analysis\n",
              "    Conventions:                     COARDS\n",
              "    history:                         Originally converted from the IRI format...\n",
              "    dataset_title:                   Kaplan Extended V2 SST anomaly data\n",
              "    description:                     Data is processed at Lamont-Doherty usin...\n",
              "    References:                      https://www.psl.noaa.gov/data/gridded/da...\n",
              "    DODS_EXTRA.Unlimited_Dimension:  time</pre><div class='xr-wrap' style='display:none'><div class='xr-header'><div class='xr-obj-type'>xarray.Dataset</div></div><ul class='xr-sections'><li class='xr-section-item'><input id='section-74fd0143-9c9d-4826-b303-b7de203662c2' class='xr-section-summary-in' type='checkbox' disabled ><label for='section-74fd0143-9c9d-4826-b303-b7de203662c2' class='xr-section-summary'  title='Expand/collapse section'>Dimensions:</label><div class='xr-section-inline-details'><ul class='xr-dim-list'><li><span class='xr-has-index'>lon</span>: 72</li><li><span class='xr-has-index'>time</span>: 1996</li><li><span class='xr-has-index'>lat</span>: 36</li></ul></div><div class='xr-section-details'></div></li><li class='xr-section-item'><input id='section-6f85db43-671e-4b20-9748-d3c96114af86' class='xr-section-summary-in' type='checkbox'  checked><label for='section-6f85db43-671e-4b20-9748-d3c96114af86' class='xr-section-summary' >Coordinates: <span>(3)</span></label><div class='xr-section-inline-details'></div><div class='xr-section-details'><ul class='xr-var-list'><li class='xr-var-item'><div class='xr-var-name'><span class='xr-has-index'>lon</span></div><div class='xr-var-dims'>(lon)</div><div class='xr-var-dtype'>float32</div><div class='xr-var-preview xr-preview'>2.5 7.5 12.5 ... 347.5 352.5 357.5</div><input id='attrs-44152d8e-df7e-46ad-876c-4538aaa99369' class='xr-var-attrs-in' type='checkbox' ><label for='attrs-44152d8e-df7e-46ad-876c-4538aaa99369' title='Show/Hide attributes'><svg class='icon xr-icon-file-text2'><use xlink:href='#icon-file-text2'></use></svg></label><input id='data-13e1ccc8-8c41-44e9-8368-6e9f21e763f6' class='xr-var-data-in' type='checkbox'><label for='data-13e1ccc8-8c41-44e9-8368-6e9f21e763f6' title='Show/Hide data repr'><svg class='icon xr-icon-database'><use xlink:href='#icon-database'></use></svg></label><div class='xr-var-attrs'><dl class='xr-attrs'><dt><span>units :</span></dt><dd>degrees_east</dd><dt><span>long_name :</span></dt><dd>Longitude</dd><dt><span>actual_range :</span></dt><dd>[  2.5 357.5]</dd><dt><span>standard_name :</span></dt><dd>longitude</dd><dt><span>axis :</span></dt><dd>X</dd><dt><span>_ChunkSizes :</span></dt><dd>72</dd></dl></div><div class='xr-var-data'><pre>array([  2.5,   7.5,  12.5,  17.5,  22.5,  27.5,  32.5,  37.5,  42.5,  47.5,\n",
              "        52.5,  57.5,  62.5,  67.5,  72.5,  77.5,  82.5,  87.5,  92.5,  97.5,\n",
              "       102.5, 107.5, 112.5, 117.5, 122.5, 127.5, 132.5, 137.5, 142.5, 147.5,\n",
              "       152.5, 157.5, 162.5, 167.5, 172.5, 177.5, 182.5, 187.5, 192.5, 197.5,\n",
              "       202.5, 207.5, 212.5, 217.5, 222.5, 227.5, 232.5, 237.5, 242.5, 247.5,\n",
              "       252.5, 257.5, 262.5, 267.5, 272.5, 277.5, 282.5, 287.5, 292.5, 297.5,\n",
              "       302.5, 307.5, 312.5, 317.5, 322.5, 327.5, 332.5, 337.5, 342.5, 347.5,\n",
              "       352.5, 357.5], dtype=float32)</pre></div></li><li class='xr-var-item'><div class='xr-var-name'><span class='xr-has-index'>time</span></div><div class='xr-var-dims'>(time)</div><div class='xr-var-dtype'>datetime64[ns]</div><div class='xr-var-preview xr-preview'>1856-01-01 ... 2022-04-01</div><input id='attrs-9a05d1dd-6255-4a0b-983b-54e1251de208' class='xr-var-attrs-in' type='checkbox' ><label for='attrs-9a05d1dd-6255-4a0b-983b-54e1251de208' title='Show/Hide attributes'><svg class='icon xr-icon-file-text2'><use xlink:href='#icon-file-text2'></use></svg></label><input id='data-2b739f13-17a6-4f86-aa88-fce2a8179877' class='xr-var-data-in' type='checkbox'><label for='data-2b739f13-17a6-4f86-aa88-fce2a8179877' title='Show/Hide data repr'><svg class='icon xr-icon-database'><use xlink:href='#icon-database'></use></svg></label><div class='xr-var-attrs'><dl class='xr-attrs'><dt><span>long_name :</span></dt><dd>Time</dd><dt><span>delta_t :</span></dt><dd>0000-01-00 00:00:00</dd><dt><span>avg_period :</span></dt><dd>0000-01-00 00:00:00</dd><dt><span>standard_name :</span></dt><dd>time</dd><dt><span>axis :</span></dt><dd>T</dd><dt><span>actual_range :</span></dt><dd>[20453. 81174.]</dd><dt><span>_ChunkSizes :</span></dt><dd>1</dd></dl></div><div class='xr-var-data'><pre>array([&#x27;1856-01-01T00:00:00.000000000&#x27;, &#x27;1856-02-01T00:00:00.000000000&#x27;,\n",
              "       &#x27;1856-03-01T00:00:00.000000000&#x27;, ..., &#x27;2022-02-01T00:00:00.000000000&#x27;,\n",
              "       &#x27;2022-03-01T00:00:00.000000000&#x27;, &#x27;2022-04-01T00:00:00.000000000&#x27;],\n",
              "      dtype=&#x27;datetime64[ns]&#x27;)</pre></div></li><li class='xr-var-item'><div class='xr-var-name'><span class='xr-has-index'>lat</span></div><div class='xr-var-dims'>(lat)</div><div class='xr-var-dtype'>float32</div><div class='xr-var-preview xr-preview'>-87.5 -82.5 -77.5 ... 82.5 87.5</div><input id='attrs-f5af4cb5-fbea-4784-8a90-0648b55772ae' class='xr-var-attrs-in' type='checkbox' ><label for='attrs-f5af4cb5-fbea-4784-8a90-0648b55772ae' title='Show/Hide attributes'><svg class='icon xr-icon-file-text2'><use xlink:href='#icon-file-text2'></use></svg></label><input id='data-67d5dec4-2420-4143-816b-dbf24d7168b8' class='xr-var-data-in' type='checkbox'><label for='data-67d5dec4-2420-4143-816b-dbf24d7168b8' title='Show/Hide data repr'><svg class='icon xr-icon-database'><use xlink:href='#icon-database'></use></svg></label><div class='xr-var-attrs'><dl class='xr-attrs'><dt><span>units :</span></dt><dd>degrees_north</dd><dt><span>actual_range :</span></dt><dd>[-87.5  87.5]</dd><dt><span>long_name :</span></dt><dd>Latitude</dd><dt><span>standard_name :</span></dt><dd>latitude</dd><dt><span>axis :</span></dt><dd>Y</dd><dt><span>_ChunkSizes :</span></dt><dd>36</dd></dl></div><div class='xr-var-data'><pre>array([-87.5, -82.5, -77.5, -72.5, -67.5, -62.5, -57.5, -52.5, -47.5, -42.5,\n",
              "       -37.5, -32.5, -27.5, -22.5, -17.5, -12.5,  -7.5,  -2.5,   2.5,   7.5,\n",
              "        12.5,  17.5,  22.5,  27.5,  32.5,  37.5,  42.5,  47.5,  52.5,  57.5,\n",
              "        62.5,  67.5,  72.5,  77.5,  82.5,  87.5], dtype=float32)</pre></div></li></ul></div></li><li class='xr-section-item'><input id='section-eea00c46-07fb-4469-a36a-4d2a03216102' class='xr-section-summary-in' type='checkbox'  checked><label for='section-eea00c46-07fb-4469-a36a-4d2a03216102' class='xr-section-summary' >Data variables: <span>(1)</span></label><div class='xr-section-inline-details'></div><div class='xr-section-details'><ul class='xr-var-list'><li class='xr-var-item'><div class='xr-var-name'><span>sst</span></div><div class='xr-var-dims'>(time, lat, lon)</div><div class='xr-var-dtype'>float32</div><div class='xr-var-preview xr-preview'>...</div><input id='attrs-98d6f49a-40f2-4a4d-9ff0-0353877e62c6' class='xr-var-attrs-in' type='checkbox' ><label for='attrs-98d6f49a-40f2-4a4d-9ff0-0353877e62c6' title='Show/Hide attributes'><svg class='icon xr-icon-file-text2'><use xlink:href='#icon-file-text2'></use></svg></label><input id='data-d7106515-becb-4250-a3d6-404adc30e796' class='xr-var-data-in' type='checkbox'><label for='data-d7106515-becb-4250-a3d6-404adc30e796' title='Show/Hide data repr'><svg class='icon xr-icon-database'><use xlink:href='#icon-database'></use></svg></label><div class='xr-var-attrs'><dl class='xr-attrs'><dt><span>long_name :</span></dt><dd>Monthly Anomalies of SST</dd><dt><span>valid_range :</span></dt><dd>[-8.  8.]</dd><dt><span>units :</span></dt><dd>degC</dd><dt><span>precision :</span></dt><dd>2</dd><dt><span>var_desc :</span></dt><dd>Sea Surface Temperature</dd><dt><span>dataset :</span></dt><dd>Kaplan Extended SST V2</dd><dt><span>level_desc :</span></dt><dd>Surface</dd><dt><span>statistic :</span></dt><dd>Anomaly</dd><dt><span>parent_stat :</span></dt><dd>Other</dd><dt><span>actual_range :</span></dt><dd>[-4.577      6.4610415]</dd><dt><span>_ChunkSizes :</span></dt><dd>[ 1 36 72]</dd></dl></div><div class='xr-var-data'><pre>[5173632 values with dtype=float32]</pre></div></li></ul></div></li><li class='xr-section-item'><input id='section-ecf0c664-fc8e-4bc2-9285-3e092e41e507' class='xr-section-summary-in' type='checkbox'  checked><label for='section-ecf0c664-fc8e-4bc2-9285-3e092e41e507' class='xr-section-summary' >Attributes: <span>(8)</span></label><div class='xr-section-inline-details'></div><div class='xr-section-details'><dl class='xr-attrs'><dt><span>title :</span></dt><dd>Kaplan Extended SST V2</dd><dt><span>platform :</span></dt><dd>Analysis</dd><dt><span>Conventions :</span></dt><dd>COARDS</dd><dt><span>history :</span></dt><dd>Originally converted from the IRI format to netCDF3 10/2003. Converted from netCDF3 packed to chunked, deflated non-packed NetCDF4 Sep 2014</dd><dt><span>dataset_title :</span></dt><dd>Kaplan Extended V2 SST anomaly data</dd><dt><span>description :</span></dt><dd>Data is processed at Lamont-Doherty using an \n",
              "optimal analysis scheme. This dataset is different than previously archived version\n",
              "from Nov 1981 due to a different NCEP OI SST input data values\n",
              "URL is at IRI http://iridl.ldeo.columbia.edu/SOURCES/.KAPLAN/.EXTENDED/.v2/</dd><dt><span>References :</span></dt><dd>https://www.psl.noaa.gov/data/gridded/data.kaplan_sst.html</dd><dt><span>DODS_EXTRA.Unlimited_Dimension :</span></dt><dd>time</dd></dl></div></li></ul></div></div>"
            ]
          },
          "metadata": {},
          "execution_count": 25
        }
      ]
    }
  ]
}