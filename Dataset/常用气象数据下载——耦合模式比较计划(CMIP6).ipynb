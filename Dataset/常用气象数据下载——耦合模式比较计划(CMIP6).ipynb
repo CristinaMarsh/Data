{
  "nbformat": 4,
  "nbformat_minor": 0,
  "metadata": {
    "colab": {
      "provenance": [],
      "authorship_tag": "ABX9TyML8a7djR0qtkgHym/SqWKM",
      "include_colab_link": true
    },
    "kernelspec": {
      "name": "python3",
      "display_name": "Python 3"
    },
    "language_info": {
      "name": "python"
    }
  },
  "cells": [
    {
      "cell_type": "markdown",
      "metadata": {
        "id": "view-in-github",
        "colab_type": "text"
      },
      "source": [
        "<a href=\"https://colab.research.google.com/github/CristinaMarsh/Data/blob/main/Dataset/%E5%B8%B8%E7%94%A8%E6%B0%94%E8%B1%A1%E6%95%B0%E6%8D%AE%E4%B8%8B%E8%BD%BD%E2%80%94%E2%80%94%E8%80%A6%E5%90%88%E6%A8%A1%E5%BC%8F%E6%AF%94%E8%BE%83%E8%AE%A1%E5%88%92(CMIP6).ipynb\" target=\"_parent\"><img src=\"https://colab.research.google.com/assets/colab-badge.svg\" alt=\"Open In Colab\"/></a>"
      ]
    },
    {
      "cell_type": "code",
      "execution_count": null,
      "metadata": {
        "id": "n9cqdQqruWnm"
      },
      "outputs": [],
      "source": [
        "#https://www.heywhale.com/mw/project/5f9f9250ca48e000300dd5cb"
      ]
    },
    {
      "cell_type": "markdown",
      "source": [
        "常用气象数据下载——耦合模式比较计划(CMIP6)\n",
        "一、耦合模式比较计划(CMIP)简介\n",
        "官网：https://www.wcrp-climate.org/wgcm-cmip\n",
        "\n",
        "CMIP是国际耦合模式比较计划（Coupled Model Intercomparison Project）的缩写，最早是在1995年由世界气候研究计划（WCRP）下属的耦合模式工作组（WGCM）主持开展的。自CMIP诞生以来，一直致力于促进气候模式的发展和完善，并支持气候变化的评估和预估工作。目前已开展了5次耦合模式比较计划，当前正在进行的是第6次耦合模式比较计划，即CMIP6。基于CMIP计划的气候变化研究，是气候评估和谈判的重要基础，也为IPCC气候变化评估报告的撰写提供了参考价值。\n",
        "\n",
        "美国劳伦斯利弗莫尔国家实验室（LLNL）的气候模式诊断和比较计划项目（PCMDI）多年来一直对CMIP计划提供支持，包括确定该计划的Scope，提供下载的平台等。目前，CMIP6数据的下载仍主要由LLNL支持的网站获取。\n",
        "\n",
        "WCRP的大科学挑战（WCRP，2016）是发起和组织CMIP计划的重要科学背景。描述CMIP6试验设计和组织的文章发表于2016年（Erying et al. 2016），此后在2018年CMIP6共批准了23个子计划。这些标准的气候模拟比较计划，主要着眼于三个关键科学问题：\n",
        "（i）地球系统如何响应外强迫；\n",
        "（ii）当前气候模式的系统性偏差产生的原因及其影响；\n",
        "（iii）在气候系统内部变率、可预报性和未来预估情景不确定的情况下如何对未来气候变化进行预估。\n",
        "\n",
        "\n",
        "CMIP6计划的试验设计有三个层次，即：\n",
        "（i）核心的DECK试验。DECK是气候诊断、评估和描述（Diagnostic，Evalutationand Charcaterization of Klima）的缩写。DECK试验是CMIP计划的入门试验，任何完成DECK试验并参与国际共享的模式，即被认为参与了CMIP计划。\n",
        "（ii）第二级的历史气候模拟试验（historical试验）。historical试验是CMIP6计划的入门试验，任何完成historical试验并参与国际共享的模式，即被认为参与了CMIP6计划。\n",
        "（iii）在两级入门试验的外层是CMIP6的23个模拟比较子计划（MIPs）。关于各子计划的目标和细节，以及更详细的内容，可参看文末提供的参考文章。\n",
        "\n",
        "参考资料：\n",
        "1、https://esgf-node.llnl.gov/projects/cmip6/\n",
        "2、Eyring, V., Bony, S., Meehl, G. A., Senior, C. A., Stevens, B., Stouffer, R. J., and Taylor, K. E.: Overview of the Coupled Model Intercomparison Project Phase 6 (CMIP6) experimental design and organization, Geosci. Model Dev., 9, 1937–1958.\n",
        "3、周天军, 邹立维, 陈晓龙. 第六次国际耦合模式比较计划（CMIP6）评述. 气候变化研究进展[J], 2019, 15(5): 445-456."
      ],
      "metadata": {
        "id": "575m68IlucpA"
      }
    },
    {
      "cell_type": "code",
      "source": [
        "!pip install acccmip6==5.3.0"
      ],
      "metadata": {
        "colab": {
          "base_uri": "https://localhost:8080/"
        },
        "id": "Ct18Lm0Kuija",
        "outputId": "e8ee7387-26a6-4c01-8c37-6712a34ba281"
      },
      "execution_count": 1,
      "outputs": [
        {
          "output_type": "stream",
          "name": "stdout",
          "text": [
            "Collecting acccmip6==5.3.0\n",
            "  Downloading acccmip6-5.3.0-py2.py3-none-any.whl (102 kB)\n",
            "\u001b[2K     \u001b[90m━━━━━━━━━━━━━━━━━━━━━━━━━━━━━━━━━━━━━━━\u001b[0m \u001b[32m102.7/102.7 kB\u001b[0m \u001b[31m1.1 MB/s\u001b[0m eta \u001b[36m0:00:00\u001b[0m\n",
            "\u001b[?25hRequirement already satisfied: pandas in /usr/local/lib/python3.10/dist-packages (from acccmip6==5.3.0) (1.5.3)\n",
            "Requirement already satisfied: requests in /usr/local/lib/python3.10/dist-packages (from acccmip6==5.3.0) (2.27.1)\n",
            "Requirement already satisfied: setuptools in /usr/local/lib/python3.10/dist-packages (from acccmip6==5.3.0) (67.7.2)\n",
            "Requirement already satisfied: xlrd in /usr/local/lib/python3.10/dist-packages (from acccmip6==5.3.0) (2.0.1)\n",
            "Requirement already satisfied: python-dateutil>=2.8.1 in /usr/local/lib/python3.10/dist-packages (from pandas->acccmip6==5.3.0) (2.8.2)\n",
            "Requirement already satisfied: pytz>=2020.1 in /usr/local/lib/python3.10/dist-packages (from pandas->acccmip6==5.3.0) (2022.7.1)\n",
            "Requirement already satisfied: numpy>=1.21.0 in /usr/local/lib/python3.10/dist-packages (from pandas->acccmip6==5.3.0) (1.22.4)\n",
            "Requirement already satisfied: urllib3<1.27,>=1.21.1 in /usr/local/lib/python3.10/dist-packages (from requests->acccmip6==5.3.0) (1.26.16)\n",
            "Requirement already satisfied: certifi>=2017.4.17 in /usr/local/lib/python3.10/dist-packages (from requests->acccmip6==5.3.0) (2023.5.7)\n",
            "Requirement already satisfied: charset-normalizer~=2.0.0 in /usr/local/lib/python3.10/dist-packages (from requests->acccmip6==5.3.0) (2.0.12)\n",
            "Requirement already satisfied: idna<4,>=2.5 in /usr/local/lib/python3.10/dist-packages (from requests->acccmip6==5.3.0) (3.4)\n",
            "Requirement already satisfied: six>=1.5 in /usr/local/lib/python3.10/dist-packages (from python-dateutil>=2.8.1->pandas->acccmip6==5.3.0) (1.16.0)\n",
            "Installing collected packages: acccmip6\n",
            "Successfully installed acccmip6-5.3.0\n"
          ]
        }
      ]
    },
    {
      "cell_type": "code",
      "source": [
        "# 测试是否安装成功\n",
        "!acccmip6"
      ],
      "metadata": {
        "colab": {
          "base_uri": "https://localhost:8080/"
        },
        "id": "HGDuHW5bujq6",
        "outputId": "d715ed40-df6f-4873-d92f-9c58479b93f2"
      },
      "execution_count": 2,
      "outputs": [
        {
          "output_type": "stream",
          "name": "stdout",
          "text": [
            "usage: acccmip6\n",
            "       [-h]\n",
            "       [-dir DIR]\n",
            "       -o\n",
            "       OUTPUT_OPTIONS\n",
            "       [-m M]\n",
            "       [-e E]\n",
            "       [-v V]\n",
            "       [-f F]\n",
            "       [-r R]\n",
            "       [-n N]\n",
            "       [-rlzn RLZN]\n",
            "       [-cr]\n",
            "       [-yr YR]\n",
            "       [-c C]\n",
            "       [-desc DESC]\n",
            "       [-time TIME]\n",
            "       [-skip SKIP]\n",
            "       [-serv SERV]\n",
            "acccmip6: error: the following arguments are required: -o/--output-options\n"
          ]
        }
      ]
    },
    {
      "cell_type": "markdown",
      "source": [
        "官方文档：https://acccmip6.readthedocs.org/"
      ],
      "metadata": {
        "id": "VwYwhF7puyq0"
      }
    },
    {
      "cell_type": "code",
      "source": [
        "#三、查看可下载的模式\n",
        "!acccmip6 -o M -m show"
      ],
      "metadata": {
        "colab": {
          "base_uri": "https://localhost:8080/"
        },
        "id": "UuMhXRHQuwFT",
        "outputId": "bfcf3fe4-7a1f-4322-a888-5934314ad9c9"
      },
      "execution_count": 3,
      "outputs": [
        {
          "output_type": "stream",
          "name": "stdout",
          "text": [
            "\n",
            "\u001b[35m                <<You are using the CMIP6DB module now>>\u001b[0m\n",
            "\n",
            "Use 'show' as the -m/-e/-f/-v/-r argument option instead of the names\n",
            "\n",
            "\u001b[1m\u001b[4mExample:\u001b[0m acccmip -o M -m show >>> will generate a list of all currently available models in the CMIP6 database.\n",
            "\n",
            "Currently  123  models has outputs!\n",
            "\n",
            "Available models: \n",
            "\n",
            "\n",
            "['4AOP-v1-5', 'ACCESS-CM2', 'ACCESS-ESM1-5', 'ACCESS-OM2', 'ACCESS-OM2-025', 'ARTS-2-3', 'AWI-CM-1-1-HR', 'AWI-CM-1-1-LR', 'AWI-CM-1-1-MR', 'AWI-ESM-1-1-LR', 'BCC-CSM2-HR', 'BCC-CSM2-MR', 'BCC-ESM1', 'CAMS-CSM1-0', 'CAS-ESM2-0', 'CESM1-1-CAM5-CMIP5', 'CESM1-CAM5-SE-HR', 'CESM1-CAM5-SE-LR', 'CESM1-WACCM-SC', 'CESM2', 'CESM2-FV2', 'CESM2-WACCM', 'CESM2-WACCM-FV2', 'CIESM', 'CMCC-CM2-HR4', 'CMCC-CM2-SR5', 'CMCC-CM2-VHR4', 'CMCC-ESM2', 'CNRM-CM6-1', 'CNRM-CM6-1-HR', 'CNRM-ESM2-1', 'CanESM5', 'CanESM5-1', 'CanESM5-CanOE', 'E3SM-1-0', 'E3SM-1-1', 'E3SM-1-1-ECA', 'E3SM-2-0', 'E3SM-2-0-NARRM', 'EC-Earth3', 'EC-Earth3-AerChem', 'EC-Earth3-CC', 'EC-Earth3-HR', 'EC-Earth3-LR', 'EC-Earth3-Veg', 'EC-Earth3-Veg-LR', 'EC-Earth3P', 'EC-Earth3P-HR', 'EC-Earth3P-VHR', 'ECMWF-IFS-HR', 'ECMWF-IFS-LR', 'ECMWF-IFS-MR', 'FGOALS-f3-H', 'FGOALS-f3-L', 'FGOALS-g3', 'FIO-ESM-2-0', 'GFDL-AM4', 'GFDL-CM4', 'GFDL-CM4C192', 'GFDL-ESM2M', 'GFDL-ESM4', 'GFDL-GRTCODE', 'GFDL-OM4p5B', 'GFDL-RFM-DISORT', 'GISS-E2-1-G', 'GISS-E2-1-G-CC', 'GISS-E2-1-H', 'GISS-E2-2-G', 'GISS-E2-2-H', 'GISS-E3-G', 'HadGEM3-GC31-HH', 'HadGEM3-GC31-HM', 'HadGEM3-GC31-LL', 'HadGEM3-GC31-LM', 'HadGEM3-GC31-MH', 'HadGEM3-GC31-MM', 'HiRAM-SIT-HR', 'HiRAM-SIT-LR', 'ICON-ESM-LR', 'IITM-ESM', 'INM-CM4-8', 'INM-CM5-0', 'INM-CM5-H', 'IPSL-CM5A2-INCA', 'IPSL-CM6A-ATM-HR', 'IPSL-CM6A-ATM-ICO-HR', 'IPSL-CM6A-ATM-ICO-LR', 'IPSL-CM6A-ATM-ICO-MR', 'IPSL-CM6A-ATM-ICO-VHR', 'IPSL-CM6A-LR', 'IPSL-CM6A-LR-INCA', 'KACE-1-0-G', 'KIOST-ESM', 'LBLRTM-12-8', 'MCM-UA-1-0', 'MIROC-ES2H', 'MIROC-ES2L', 'MIROC6', 'MPI-ESM-1-2-HAM', 'MPI-ESM1-2-HR', 'MPI-ESM1-2-LR', 'MPI-ESM1-2-XR', 'MRI-AGCM3-2-H', 'MRI-AGCM3-2-S', 'MRI-ESM2-0', 'NESM3', 'NICAM16-7S', 'NICAM16-8S', 'NICAM16-9S', 'NorCPM1', 'NorESM1-F', 'NorESM2-LM', 'NorESM2-MM', 'RRTMG-LW-4-91', 'RRTMG-SW-4-02', 'RTE-RRTMGP-181204', 'SAM0-UNICON', 'TaiESM1', 'TaiESM1-TIMCOM', 'TaiESM1-TIMCOM2', 'UKESM1-0-LL', 'UKESM1-1-LL', 'UKESM1-ice-LL']\n"
          ]
        }
      ]
    },
    {
      "cell_type": "code",
      "source": [
        "#四、查看可下载的变量\n",
        "!acccmip6 -o S -m MIROC6"
      ],
      "metadata": {
        "colab": {
          "base_uri": "https://localhost:8080/"
        },
        "id": "KYQ8pbSWu0IF",
        "outputId": "874c64e9-a1e8-428c-85c5-1e6d4c6f7259"
      },
      "execution_count": 4,
      "outputs": [
        {
          "output_type": "stream",
          "name": "stdout",
          "text": [
            "\n",
            "\u001b[4m\u001b[1mTIPS:\u001b[0m Use the check (-c) argument to check your inputs.\u001b[0m\n",
            "\u001b[92m\n",
            "\n",
            " Currently available models based on your search: \n",
            "\n",
            "\u001b[0m ['MIROC6']\n",
            "\u001b[92m\n",
            "Currently available variables based on your search: \n",
            "\n",
            "\u001b[0m ['cheaqpso4', 'ta', 'emidms', 'siconc', 'wetss', 'chepsoa', 'loadbc', 'rlut', 'mmrpm10', 'tntmp', 'wa', 'hur', 'huss', 'emiso2', 'wetbc', 'tauu', 'tntc', 'rld', 'zg', 'hursmax', 'tntscpbl', 'rlutcs', 'sithick', 'mmrso4', 'mrros', 'prw', 'loaddust', 'drydust', 'clisccp', 'mmrbc', 'rsuscs', 'sftlf', 'tnhusc', 'prc', 'od550so4', 'ts', 'siu', 'loadso4', 'tntrl', 'od550ss', 'uo', 'hfss', 'cdnc', 'areacella', 'dryoa', 'hfls', 'sbl', 'sitimefrac', 'prsn', 'clt', 'emibc', 'rlucs', 'tnhus', 'od440aer', 'od550bc', 'dryso4', 'emiss', 'ua', 'wo', 'od550oa', 'tauv', 'clw', 'od550lt1aer', 'rtmt', 'cct', 'dryso2', 'tas', 'rsdcs', 'dryss', 'rlus', 'rlu', 'ps', 'tos', 'cltcalipso', 'albisccp', 'rsdscs', 'drybc', 'od870aer', 'wap', 'rsucs', 'mc', 'cli', 'cod', 'pctisccp', 'wetso2', 'evspsbl', 'snc', 'tnta', 'uas', 'sispeed', 'sfcWind', 'sisnthick', 'mmrss', 'cllcalipso', 'sos', 'od550aer', 'cl', 'tsl', 'abs550aer', 'clhcalipso', 'rsds', 'airmass', 'wetdust', 'tntr', 'hurs', 'tsn', 'tasmax', 'clmcalipso', 'mrsol', 'va', 'emidust', 'snd', 'hus', 'mmroa', 'vo', 'loadss', 'rsus', 'clcalipso', 'rsut', 'tasmin', 'wetoa', 'tnt', 'mmrpm2p5', 'mmraerh2o', 'dms', 'mrro', 'siv', 'reffclwtop', 'tntrs', 'od550csaer', 'vas', 'cltisccp', 'tnhusscpbl', 'sfcWindmax', 'hursmin', 'so', 'psl', 'rsu', 'snw', 'clivi', 'pr', 'rsd', 'ccb', 'chegpso4', 'wetso4', 'tnhusmp', 'rldcs', 'mmrdust', 'rldscs', 'rsdt', 'od550dust', 'orog', 'thetao', 'mrsos', 'emioa', 'mrfso', 'clwvi', 'tnhusa', 'mrso', 'snm', 'rlds', 'rsutcs']\n",
            "\u001b[92m\n",
            "Currently available experiments based on your search: \n",
            "\n",
            "\u001b[0m ['hist-piAer'] \n",
            "\n",
            "\n",
            "\u001b[92m\n",
            "Number of files:\u001b[0m 3868 \n",
            "\n",
            "\n",
            "\u001b[92m\n",
            "Available realizations:\u001b[0m [1, 2, 3] \n",
            "\n",
            "\n",
            "\u001b[31m\n",
            "\n",
            "       <===============Exiting now!================>\u001b[0m\n",
            "\n",
            "\n"
          ]
        }
      ]
    },
    {
      "cell_type": "code",
      "source": [
        "#五、查看可下载的实验\n",
        "!acccmip6 -o S -m MIROC6 -v vas -f mon -r atmos"
      ],
      "metadata": {
        "colab": {
          "base_uri": "https://localhost:8080/"
        },
        "id": "aSjbZ9pvu1-c",
        "outputId": "6f0af8af-9c76-4532-8cea-d56b818607ab"
      },
      "execution_count": 5,
      "outputs": [
        {
          "output_type": "stream",
          "name": "stdout",
          "text": [
            "\n",
            "\u001b[4m\u001b[1mTIPS:\u001b[0m Use the check (-c) argument to check your inputs.\u001b[0m\n",
            "\u001b[92m\n",
            "\n",
            " Currently available models based on your search: \n",
            "\n",
            "\u001b[0m ['MIROC6']\n",
            "\u001b[92m\n",
            "Currently available variables based on your search: \n",
            "\n",
            "\u001b[0m ['vas']\n",
            "\u001b[92m\n",
            "Currently available experiments based on your search: \n",
            "\n",
            "\u001b[0m ['pdSST-futOkhotskSIC', 'amip-p4K', 'abrupt-4xCO2', 'piClim-anthro', 'pdSST-futArcSIC', 'histSST-piNTCF', 'historical', 'ssp370SST-lowBC', 'hist-piAer', 'pdSST-futAntSIC', 'piClim-NTCF', 'hist-aer', '1pctCO2', 'ssp534-over', 'hist-nat', 'piClim-histghg', 'faf-heat-NA0pct', 'hist-sol', 'abrupt-2xCO2', 'ssp585', 'ssp370', 'ssp245', 'ssp370SST-lowAer', 'dcppA-hindcast', 'ssp119', 'histSST', 'ssp126', 'faf-stress', 'hist-GHG', 'piClim-lu', 'ssp370pdSST', 'hist-volc', 'ssp370SST', 'ssp460', 'ssp370-lowNTCF', 'piClim-4xCO2', 'hist-piNTCF', 'piClim-histnat', 'pdSST-piAntSIC', 'pdSST-piArcSIC', 'amip-lfmip-pdLC', 'faf-heat-NA50pct', 'piClim-control', 'piClim-2xss', 'piClim-histaer', 'amip-lfmip-rmLC', 'ssp245-stratO3', 'amip-piForcing', 'piControl', 'faf-heat', 'abrupt-0p5xCO2', 'amip-future4K', 'faf-all', 'ssp245-aer', 'piClim-histall', 'amip', 'pdSST-pdSIC', 'hist-stratO3', 'ssp434', 'aqua-control', 'aqua-4xCO2', 'piClim-BC', 'piClim-2xdust', 'amip-4xCO2', 'piClim-2xfire', 'hist-CO2', 'ssp245-nat', 'faf-passiveheat', 'ssp245-GHG', 'histSST-piAer', 'piClim-SO2', 'pdSST-futBKSeasSIC', 'hist-totalO3', 'dcppA-assim', 'piClim-aer', 'piClim-ghg', 'faf-water', 'piClim-OC', 'aqua-p4K', 'amip-hist'] \n",
            "\n",
            "\n",
            "\u001b[92m\n",
            "Number of files:\u001b[0m 2284 \n",
            "\n",
            "\n",
            "\u001b[92m\n",
            "Available realizations:\u001b[0m [1, 2, 3, 4, 5, 6, 7, 8, 9, 10, 11, 12, 13, 14, 15, 16, 17, 18, 19, 20, 21, 22, 23, 24, 25, 26, 27, 28, 29, 30, 31, 32, 33, 34, 35, 36, 37, 38, 39, 40, 41, 42, 43, 44, 45, 46, 47, 48, 49, 50, 51, 52, 53, 54, 55, 56, 57, 58, 59, 60, 61, 62, 63, 64, 65, 66, 67, 68, 69, 70, 71, 72, 73, 74, 75, 76, 77, 78, 79, 80, 81, 82, 83, 84, 85, 86, 87, 88, 89, 90, 91, 92, 93, 94, 95, 96, 97, 98, 99] \n",
            "\n",
            "\n",
            "\u001b[31m\n",
            "\n",
            "       <===============Exiting now!================>\u001b[0m\n",
            "\n",
            "\n"
          ]
        }
      ]
    },
    {
      "cell_type": "code",
      "source": [
        "# 批量下载数据\n",
        "!acccmip6 -o D -e hist-CO2 -v vas -m MIROC6 -dir /home/mw/project"
      ],
      "metadata": {
        "colab": {
          "base_uri": "https://localhost:8080/"
        },
        "id": "XH32jquJu8AR",
        "outputId": "81fc8404-9d69-47bd-8416-ddd278716f98"
      },
      "execution_count": 6,
      "outputs": [
        {
          "output_type": "stream",
          "name": "stdout",
          "text": [
            "\n",
            "Finding server . . .\n",
            "creating  /home/mw/project\n",
            "\n",
            "\n",
            "vas_Amon_MIROC6_hist-CO2_r1i1p1f1_gn_185001-194912.nc is available!\n",
            "\n",
            "Downloading  100% |████████████████████████████████████████| 120/120MB 7.14 MB/s\n",
            "\n",
            "vas_Amon_MIROC6_hist-CO2_r1i1p1f1_gn_195001-202012.nc is available!\n",
            "\n",
            "Downloading  100% |████████████████████████████████████████| 85/85MB 7.67 MB/s\n",
            "\n",
            "vas_Amon_MIROC6_hist-CO2_r2i1p1f1_gn_185001-194912.nc is available!\n",
            "\n",
            "Downloading  100% |████████████████████████████████████████| 120/120MB 7.54 MB/s\n",
            "\n",
            "vas_Amon_MIROC6_hist-CO2_r2i1p1f1_gn_195001-202012.nc is available!\n",
            "\n",
            "Downloading  100% |████████████████████████████████████████| 85/85MB 7.50 MB/s\n",
            "\n",
            "vas_Amon_MIROC6_hist-CO2_r3i1p1f1_gn_185001-194912.nc is available!\n",
            "\n",
            "Downloading  100% |████████████████████████████████████████| 120/120MB 9.26 MB/s\n",
            "\n",
            "vas_Amon_MIROC6_hist-CO2_r3i1p1f1_gn_195001-202012.nc is available!\n",
            "\n",
            "Downloading  100% |████████████████████████████████████████| 85/85MB 6.83 MB/s\n",
            "\n",
            "vas_day_MIROC6_hist-CO2_r1i1p1f1_gn_18500101-18591231.nc is available!\n",
            "\n",
            "Downloading  48% |████████████████████░░░░░░░░░░░░░░░░░░░░| 179/367MB 6.81 MB/s\n",
            "Interrupted! Removing file . . .\n",
            "\n",
            "\n",
            "Finished downloading.\n",
            "\n",
            "\n",
            "Downloaded  6  out of  6  files.\n"
          ]
        }
      ]
    },
    {
      "cell_type": "code",
      "source": [],
      "metadata": {
        "id": "EIuK_R1Kv9Wj"
      },
      "execution_count": null,
      "outputs": []
    },
    {
      "cell_type": "code",
      "source": [],
      "metadata": {
        "id": "on31yM6zvHgW"
      },
      "execution_count": null,
      "outputs": []
    }
  ]
}